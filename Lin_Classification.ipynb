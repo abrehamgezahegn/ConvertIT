{
  "nbformat": 4,
  "nbformat_minor": 0,
  "metadata": {
    "colab": {
      "name": "Lin Classification.ipynb",
      "provenance": [],
      "authorship_tag": "ABX9TyOOIzZ5ZH7Ae+ciRt8EaXUf",
      "include_colab_link": true
    },
    "kernelspec": {
      "name": "python3",
      "display_name": "Python 3"
    },
    "language_info": {
      "name": "python"
    }
  },
  "cells": [
    {
      "cell_type": "markdown",
      "metadata": {
        "id": "view-in-github",
        "colab_type": "text"
      },
      "source": [
        "<a href=\"https://colab.research.google.com/github/abrehamgezahegn/ConvertIT/blob/master/Lin_Classification.ipynb\" target=\"_parent\"><img src=\"https://colab.research.google.com/assets/colab-badge.svg\" alt=\"Open In Colab\"/></a>"
      ]
    },
    {
      "cell_type": "code",
      "metadata": {
        "colab": {
          "base_uri": "https://localhost:8080/",
          "height": 35
        },
        "id": "lCoX14zvR3l3",
        "outputId": "3f1846dc-4529-43ca-be37-f7c4c7150535"
      },
      "source": [
        "import tensorflow as tf\n",
        "import pandas as pd\n",
        "import numpy as np\n",
        "from sklearn.datasets import load_breast_cancer\n",
        "from sklearn.model_selection import train_test_split\n",
        "from sklearn.preprocessing import  StandardScaler\n",
        "import matplotlib.pyplot as plt\n",
        "\n",
        "\n",
        "tf.__version__\n"
      ],
      "execution_count": null,
      "outputs": [
        {
          "output_type": "execute_result",
          "data": {
            "application/vnd.google.colaboratory.intrinsic+json": {
              "type": "string"
            },
            "text/plain": [
              "'2.4.1'"
            ]
          },
          "metadata": {
            "tags": []
          },
          "execution_count": 72
        }
      ]
    },
    {
      "cell_type": "code",
      "metadata": {
        "id": "xvg8pZfiTuwM"
      },
      "source": [
        ""
      ],
      "execution_count": null,
      "outputs": []
    },
    {
      "cell_type": "code",
      "metadata": {
        "colab": {
          "base_uri": "https://localhost:8080/"
        },
        "id": "ehCPyJJZR9FX",
        "outputId": "510e0cd5-1149-4ddc-fc42-75cdfba85983"
      },
      "source": [
        "\n",
        "data = load_breast_cancer()\n",
        "print(data.data.shape)\n",
        "print(data.keys())\n",
        "print(\"target\" , data.target.shape)\n",
        "\n",
        "\n",
        "np.isnan(data.data).sum(axis=0)\n",
        "\n",
        "data.feature_names"
      ],
      "execution_count": null,
      "outputs": [
        {
          "output_type": "stream",
          "text": [
            "(569, 30)\n",
            "dict_keys(['data', 'target', 'target_names', 'DESCR', 'feature_names', 'filename'])\n",
            "target (569,)\n"
          ],
          "name": "stdout"
        },
        {
          "output_type": "execute_result",
          "data": {
            "text/plain": [
              "array(['mean radius', 'mean texture', 'mean perimeter', 'mean area',\n",
              "       'mean smoothness', 'mean compactness', 'mean concavity',\n",
              "       'mean concave points', 'mean symmetry', 'mean fractal dimension',\n",
              "       'radius error', 'texture error', 'perimeter error', 'area error',\n",
              "       'smoothness error', 'compactness error', 'concavity error',\n",
              "       'concave points error', 'symmetry error',\n",
              "       'fractal dimension error', 'worst radius', 'worst texture',\n",
              "       'worst perimeter', 'worst area', 'worst smoothness',\n",
              "       'worst compactness', 'worst concavity', 'worst concave points',\n",
              "       'worst symmetry', 'worst fractal dimension'], dtype='<U23')"
            ]
          },
          "metadata": {
            "tags": []
          },
          "execution_count": 48
        }
      ]
    },
    {
      "cell_type": "code",
      "metadata": {
        "colab": {
          "base_uri": "https://localhost:8080/"
        },
        "id": "LzhGSpWtTKAs",
        "outputId": "dfd3dbcd-e142-47f5-b9b6-1c9a2a2bf38f"
      },
      "source": [
        "df = pd.DataFrame(data.data)\n",
        "df.dtypes"
      ],
      "execution_count": null,
      "outputs": [
        {
          "output_type": "execute_result",
          "data": {
            "text/plain": [
              "0     float64\n",
              "1     float64\n",
              "2     float64\n",
              "3     float64\n",
              "4     float64\n",
              "5     float64\n",
              "6     float64\n",
              "7     float64\n",
              "8     float64\n",
              "9     float64\n",
              "10    float64\n",
              "11    float64\n",
              "12    float64\n",
              "13    float64\n",
              "14    float64\n",
              "15    float64\n",
              "16    float64\n",
              "17    float64\n",
              "18    float64\n",
              "19    float64\n",
              "20    float64\n",
              "21    float64\n",
              "22    float64\n",
              "23    float64\n",
              "24    float64\n",
              "25    float64\n",
              "26    float64\n",
              "27    float64\n",
              "28    float64\n",
              "29    float64\n",
              "dtype: object"
            ]
          },
          "metadata": {
            "tags": []
          },
          "execution_count": 49
        }
      ]
    },
    {
      "cell_type": "code",
      "metadata": {
        "colab": {
          "base_uri": "https://localhost:8080/"
        },
        "id": "zLBPF55ZT9PZ",
        "outputId": "1806d5ab-16dd-42c0-e31c-978e3acc6a74"
      },
      "source": [
        "X, y = data.data , data.target\n",
        "X.shape"
      ],
      "execution_count": null,
      "outputs": [
        {
          "output_type": "execute_result",
          "data": {
            "text/plain": [
              "(569, 30)"
            ]
          },
          "metadata": {
            "tags": []
          },
          "execution_count": 42
        }
      ]
    },
    {
      "cell_type": "code",
      "metadata": {
        "colab": {
          "base_uri": "https://localhost:8080/"
        },
        "id": "9XUIoBvoUH2y",
        "outputId": "c82b119c-aba9-4e59-ab48-ce1be8bc64a9"
      },
      "source": [
        "X_train,X_test , y_train , y_test = train_test_split(X, y, test_size=0.3)\n",
        "X_train.shape\n",
        "X_test.shape"
      ],
      "execution_count": null,
      "outputs": [
        {
          "output_type": "execute_result",
          "data": {
            "text/plain": [
              "(171, 30)"
            ]
          },
          "metadata": {
            "tags": []
          },
          "execution_count": 46
        }
      ]
    },
    {
      "cell_type": "code",
      "metadata": {
        "id": "uMTn8oGuVA_V"
      },
      "source": [
        "scaler =  StandardScaler()\n",
        "X_train = scaler.fit_transform(X_train);\n",
        "X_test = scaler.transform(X_test);"
      ],
      "execution_count": null,
      "outputs": []
    },
    {
      "cell_type": "code",
      "metadata": {
        "colab": {
          "base_uri": "https://localhost:8080/"
        },
        "id": "8KfTeeuWYLRK",
        "outputId": "1f73af14-7c96-461a-e566-17a6bcbe7485"
      },
      "source": [
        "\n",
        "N,D = X.shape\n",
        "\n",
        "model = tf.keras.models.Sequential([ \n",
        "    tf.keras.layers.Input(shape=(D,)),\n",
        "    tf.keras.layers.Dense(1, activation='sigmoid')\n",
        "])\n",
        "\n",
        "# Alternatively, you can do:\n",
        "# model = tf.keras.models.Sequential()\n",
        "# model.add(tf.keras.layers.Dense(1, input_shape=(D,), activation='sigmoid'))\n",
        "\n",
        "model.compile(optimizer='adam',\n",
        "              loss='binary_crossentropy',\n",
        "              metrics=['accuracy'])\n",
        "\n",
        "\n",
        "r = model.fit(X_train, y_train, validation_data=(X_test, y_test), epochs=100)\n",
        "\n"
      ],
      "execution_count": null,
      "outputs": [
        {
          "output_type": "stream",
          "text": [
            "Epoch 1/100\n",
            "13/13 [==============================] - 1s 17ms/step - loss: 1.1590 - accuracy: 0.3443 - val_loss: 1.0189 - val_accuracy: 0.3918\n",
            "Epoch 2/100\n",
            "13/13 [==============================] - 0s 5ms/step - loss: 1.0935 - accuracy: 0.4036 - val_loss: 0.9153 - val_accuracy: 0.4444\n",
            "Epoch 3/100\n",
            "13/13 [==============================] - 0s 6ms/step - loss: 0.9884 - accuracy: 0.4276 - val_loss: 0.8227 - val_accuracy: 0.5322\n",
            "Epoch 4/100\n",
            "13/13 [==============================] - 0s 6ms/step - loss: 0.8060 - accuracy: 0.4843 - val_loss: 0.7422 - val_accuracy: 0.5789\n",
            "Epoch 5/100\n",
            "13/13 [==============================] - 0s 5ms/step - loss: 0.7985 - accuracy: 0.5139 - val_loss: 0.6714 - val_accuracy: 0.6316\n",
            "Epoch 6/100\n",
            "13/13 [==============================] - 0s 5ms/step - loss: 0.7216 - accuracy: 0.5665 - val_loss: 0.6099 - val_accuracy: 0.6491\n",
            "Epoch 7/100\n",
            "13/13 [==============================] - 0s 5ms/step - loss: 0.6838 - accuracy: 0.5621 - val_loss: 0.5580 - val_accuracy: 0.7018\n",
            "Epoch 8/100\n",
            "13/13 [==============================] - 0s 5ms/step - loss: 0.6146 - accuracy: 0.6766 - val_loss: 0.5143 - val_accuracy: 0.7310\n",
            "Epoch 9/100\n",
            "13/13 [==============================] - 0s 5ms/step - loss: 0.5551 - accuracy: 0.7097 - val_loss: 0.4768 - val_accuracy: 0.7836\n",
            "Epoch 10/100\n",
            "13/13 [==============================] - 0s 6ms/step - loss: 0.5325 - accuracy: 0.7234 - val_loss: 0.4431 - val_accuracy: 0.8012\n",
            "Epoch 11/100\n",
            "13/13 [==============================] - 0s 5ms/step - loss: 0.4794 - accuracy: 0.7562 - val_loss: 0.4146 - val_accuracy: 0.8480\n",
            "Epoch 12/100\n",
            "13/13 [==============================] - 0s 5ms/step - loss: 0.4657 - accuracy: 0.7919 - val_loss: 0.3908 - val_accuracy: 0.8538\n",
            "Epoch 13/100\n",
            "13/13 [==============================] - 0s 5ms/step - loss: 0.4263 - accuracy: 0.8031 - val_loss: 0.3689 - val_accuracy: 0.8772\n",
            "Epoch 14/100\n",
            "13/13 [==============================] - 0s 7ms/step - loss: 0.4119 - accuracy: 0.8231 - val_loss: 0.3502 - val_accuracy: 0.8830\n",
            "Epoch 15/100\n",
            "13/13 [==============================] - 0s 5ms/step - loss: 0.3710 - accuracy: 0.8410 - val_loss: 0.3350 - val_accuracy: 0.8889\n",
            "Epoch 16/100\n",
            "13/13 [==============================] - 0s 5ms/step - loss: 0.3484 - accuracy: 0.8564 - val_loss: 0.3202 - val_accuracy: 0.8947\n",
            "Epoch 17/100\n",
            "13/13 [==============================] - 0s 6ms/step - loss: 0.3295 - accuracy: 0.8978 - val_loss: 0.3069 - val_accuracy: 0.9123\n",
            "Epoch 18/100\n",
            "13/13 [==============================] - 0s 5ms/step - loss: 0.3098 - accuracy: 0.8857 - val_loss: 0.2950 - val_accuracy: 0.9181\n",
            "Epoch 19/100\n",
            "13/13 [==============================] - 0s 5ms/step - loss: 0.3117 - accuracy: 0.8983 - val_loss: 0.2847 - val_accuracy: 0.9181\n",
            "Epoch 20/100\n",
            "13/13 [==============================] - 0s 6ms/step - loss: 0.2862 - accuracy: 0.9044 - val_loss: 0.2754 - val_accuracy: 0.9240\n",
            "Epoch 21/100\n",
            "13/13 [==============================] - 0s 6ms/step - loss: 0.3003 - accuracy: 0.8924 - val_loss: 0.2670 - val_accuracy: 0.9240\n",
            "Epoch 22/100\n",
            "13/13 [==============================] - 0s 5ms/step - loss: 0.2852 - accuracy: 0.8996 - val_loss: 0.2596 - val_accuracy: 0.9240\n",
            "Epoch 23/100\n",
            "13/13 [==============================] - 0s 6ms/step - loss: 0.2737 - accuracy: 0.9104 - val_loss: 0.2521 - val_accuracy: 0.9240\n",
            "Epoch 24/100\n",
            "13/13 [==============================] - 0s 6ms/step - loss: 0.2645 - accuracy: 0.9039 - val_loss: 0.2459 - val_accuracy: 0.9298\n",
            "Epoch 25/100\n",
            "13/13 [==============================] - 0s 5ms/step - loss: 0.2503 - accuracy: 0.9168 - val_loss: 0.2400 - val_accuracy: 0.9415\n",
            "Epoch 26/100\n",
            "13/13 [==============================] - 0s 5ms/step - loss: 0.2529 - accuracy: 0.9154 - val_loss: 0.2342 - val_accuracy: 0.9415\n",
            "Epoch 27/100\n",
            "13/13 [==============================] - 0s 6ms/step - loss: 0.2389 - accuracy: 0.9139 - val_loss: 0.2293 - val_accuracy: 0.9532\n",
            "Epoch 28/100\n",
            "13/13 [==============================] - 0s 5ms/step - loss: 0.2403 - accuracy: 0.9208 - val_loss: 0.2243 - val_accuracy: 0.9532\n",
            "Epoch 29/100\n",
            "13/13 [==============================] - 0s 6ms/step - loss: 0.2212 - accuracy: 0.9307 - val_loss: 0.2199 - val_accuracy: 0.9532\n",
            "Epoch 30/100\n",
            "13/13 [==============================] - 0s 7ms/step - loss: 0.2145 - accuracy: 0.9311 - val_loss: 0.2155 - val_accuracy: 0.9532\n",
            "Epoch 31/100\n",
            "13/13 [==============================] - 0s 6ms/step - loss: 0.2140 - accuracy: 0.9252 - val_loss: 0.2114 - val_accuracy: 0.9532\n",
            "Epoch 32/100\n",
            "13/13 [==============================] - 0s 6ms/step - loss: 0.2037 - accuracy: 0.9250 - val_loss: 0.2079 - val_accuracy: 0.9532\n",
            "Epoch 33/100\n",
            "13/13 [==============================] - 0s 7ms/step - loss: 0.1918 - accuracy: 0.9450 - val_loss: 0.2045 - val_accuracy: 0.9532\n",
            "Epoch 34/100\n",
            "13/13 [==============================] - 0s 7ms/step - loss: 0.2045 - accuracy: 0.9285 - val_loss: 0.2011 - val_accuracy: 0.9532\n",
            "Epoch 35/100\n",
            "13/13 [==============================] - 0s 6ms/step - loss: 0.1890 - accuracy: 0.9521 - val_loss: 0.1978 - val_accuracy: 0.9474\n",
            "Epoch 36/100\n",
            "13/13 [==============================] - 0s 7ms/step - loss: 0.1772 - accuracy: 0.9548 - val_loss: 0.1948 - val_accuracy: 0.9474\n",
            "Epoch 37/100\n",
            "13/13 [==============================] - 0s 6ms/step - loss: 0.1754 - accuracy: 0.9497 - val_loss: 0.1920 - val_accuracy: 0.9474\n",
            "Epoch 38/100\n",
            "13/13 [==============================] - 0s 5ms/step - loss: 0.2019 - accuracy: 0.9305 - val_loss: 0.1892 - val_accuracy: 0.9474\n",
            "Epoch 39/100\n",
            "13/13 [==============================] - 0s 6ms/step - loss: 0.2003 - accuracy: 0.9430 - val_loss: 0.1864 - val_accuracy: 0.9474\n",
            "Epoch 40/100\n",
            "13/13 [==============================] - 0s 5ms/step - loss: 0.1733 - accuracy: 0.9585 - val_loss: 0.1840 - val_accuracy: 0.9532\n",
            "Epoch 41/100\n",
            "13/13 [==============================] - 0s 6ms/step - loss: 0.1654 - accuracy: 0.9563 - val_loss: 0.1818 - val_accuracy: 0.9532\n",
            "Epoch 42/100\n",
            "13/13 [==============================] - 0s 6ms/step - loss: 0.1804 - accuracy: 0.9590 - val_loss: 0.1795 - val_accuracy: 0.9532\n",
            "Epoch 43/100\n",
            "13/13 [==============================] - 0s 5ms/step - loss: 0.1768 - accuracy: 0.9512 - val_loss: 0.1774 - val_accuracy: 0.9532\n",
            "Epoch 44/100\n",
            "13/13 [==============================] - 0s 5ms/step - loss: 0.1583 - accuracy: 0.9644 - val_loss: 0.1751 - val_accuracy: 0.9532\n",
            "Epoch 45/100\n",
            "13/13 [==============================] - 0s 5ms/step - loss: 0.1788 - accuracy: 0.9517 - val_loss: 0.1733 - val_accuracy: 0.9532\n",
            "Epoch 46/100\n",
            "13/13 [==============================] - 0s 6ms/step - loss: 0.1630 - accuracy: 0.9605 - val_loss: 0.1713 - val_accuracy: 0.9591\n",
            "Epoch 47/100\n",
            "13/13 [==============================] - 0s 5ms/step - loss: 0.1567 - accuracy: 0.9714 - val_loss: 0.1695 - val_accuracy: 0.9591\n",
            "Epoch 48/100\n",
            "13/13 [==============================] - 0s 6ms/step - loss: 0.1623 - accuracy: 0.9597 - val_loss: 0.1678 - val_accuracy: 0.9591\n",
            "Epoch 49/100\n",
            "13/13 [==============================] - 0s 6ms/step - loss: 0.1489 - accuracy: 0.9735 - val_loss: 0.1660 - val_accuracy: 0.9532\n",
            "Epoch 50/100\n",
            "13/13 [==============================] - 0s 5ms/step - loss: 0.1398 - accuracy: 0.9770 - val_loss: 0.1644 - val_accuracy: 0.9532\n",
            "Epoch 51/100\n",
            "13/13 [==============================] - 0s 6ms/step - loss: 0.1523 - accuracy: 0.9667 - val_loss: 0.1629 - val_accuracy: 0.9532\n",
            "Epoch 52/100\n",
            "13/13 [==============================] - 0s 6ms/step - loss: 0.1564 - accuracy: 0.9501 - val_loss: 0.1615 - val_accuracy: 0.9532\n",
            "Epoch 53/100\n",
            "13/13 [==============================] - 0s 6ms/step - loss: 0.1380 - accuracy: 0.9691 - val_loss: 0.1600 - val_accuracy: 0.9532\n",
            "Epoch 54/100\n",
            "13/13 [==============================] - 0s 6ms/step - loss: 0.1565 - accuracy: 0.9528 - val_loss: 0.1588 - val_accuracy: 0.9532\n",
            "Epoch 55/100\n",
            "13/13 [==============================] - 0s 6ms/step - loss: 0.1430 - accuracy: 0.9727 - val_loss: 0.1575 - val_accuracy: 0.9532\n",
            "Epoch 56/100\n",
            "13/13 [==============================] - 0s 6ms/step - loss: 0.1282 - accuracy: 0.9794 - val_loss: 0.1562 - val_accuracy: 0.9532\n",
            "Epoch 57/100\n",
            "13/13 [==============================] - 0s 7ms/step - loss: 0.1473 - accuracy: 0.9561 - val_loss: 0.1550 - val_accuracy: 0.9532\n",
            "Epoch 58/100\n",
            "13/13 [==============================] - 0s 6ms/step - loss: 0.1544 - accuracy: 0.9497 - val_loss: 0.1538 - val_accuracy: 0.9532\n",
            "Epoch 59/100\n",
            "13/13 [==============================] - 0s 5ms/step - loss: 0.1253 - accuracy: 0.9804 - val_loss: 0.1528 - val_accuracy: 0.9532\n",
            "Epoch 60/100\n",
            "13/13 [==============================] - 0s 6ms/step - loss: 0.1419 - accuracy: 0.9712 - val_loss: 0.1517 - val_accuracy: 0.9532\n",
            "Epoch 61/100\n",
            "13/13 [==============================] - 0s 6ms/step - loss: 0.1389 - accuracy: 0.9591 - val_loss: 0.1507 - val_accuracy: 0.9532\n",
            "Epoch 62/100\n",
            "13/13 [==============================] - 0s 6ms/step - loss: 0.1405 - accuracy: 0.9634 - val_loss: 0.1497 - val_accuracy: 0.9591\n",
            "Epoch 63/100\n",
            "13/13 [==============================] - 0s 6ms/step - loss: 0.1161 - accuracy: 0.9788 - val_loss: 0.1487 - val_accuracy: 0.9591\n",
            "Epoch 64/100\n",
            "13/13 [==============================] - 0s 6ms/step - loss: 0.1341 - accuracy: 0.9688 - val_loss: 0.1478 - val_accuracy: 0.9591\n",
            "Epoch 65/100\n",
            "13/13 [==============================] - 0s 5ms/step - loss: 0.1268 - accuracy: 0.9751 - val_loss: 0.1469 - val_accuracy: 0.9591\n",
            "Epoch 66/100\n",
            "13/13 [==============================] - 0s 5ms/step - loss: 0.1177 - accuracy: 0.9817 - val_loss: 0.1459 - val_accuracy: 0.9532\n",
            "Epoch 67/100\n",
            "13/13 [==============================] - 0s 5ms/step - loss: 0.1457 - accuracy: 0.9571 - val_loss: 0.1450 - val_accuracy: 0.9532\n",
            "Epoch 68/100\n",
            "13/13 [==============================] - 0s 5ms/step - loss: 0.1246 - accuracy: 0.9779 - val_loss: 0.1442 - val_accuracy: 0.9532\n",
            "Epoch 69/100\n",
            "13/13 [==============================] - 0s 5ms/step - loss: 0.1157 - accuracy: 0.9845 - val_loss: 0.1434 - val_accuracy: 0.9532\n",
            "Epoch 70/100\n",
            "13/13 [==============================] - 0s 5ms/step - loss: 0.1166 - accuracy: 0.9805 - val_loss: 0.1426 - val_accuracy: 0.9532\n",
            "Epoch 71/100\n",
            "13/13 [==============================] - 0s 6ms/step - loss: 0.1241 - accuracy: 0.9717 - val_loss: 0.1418 - val_accuracy: 0.9532\n",
            "Epoch 72/100\n",
            "13/13 [==============================] - 0s 5ms/step - loss: 0.1219 - accuracy: 0.9806 - val_loss: 0.1411 - val_accuracy: 0.9532\n",
            "Epoch 73/100\n",
            "13/13 [==============================] - 0s 5ms/step - loss: 0.1187 - accuracy: 0.9779 - val_loss: 0.1405 - val_accuracy: 0.9532\n",
            "Epoch 74/100\n",
            "13/13 [==============================] - 0s 6ms/step - loss: 0.1157 - accuracy: 0.9778 - val_loss: 0.1398 - val_accuracy: 0.9532\n",
            "Epoch 75/100\n",
            "13/13 [==============================] - 0s 6ms/step - loss: 0.1127 - accuracy: 0.9777 - val_loss: 0.1391 - val_accuracy: 0.9532\n",
            "Epoch 76/100\n",
            "13/13 [==============================] - 0s 5ms/step - loss: 0.1094 - accuracy: 0.9821 - val_loss: 0.1385 - val_accuracy: 0.9532\n",
            "Epoch 77/100\n",
            "13/13 [==============================] - 0s 6ms/step - loss: 0.1140 - accuracy: 0.9836 - val_loss: 0.1379 - val_accuracy: 0.9532\n",
            "Epoch 78/100\n",
            "13/13 [==============================] - 0s 6ms/step - loss: 0.1291 - accuracy: 0.9634 - val_loss: 0.1373 - val_accuracy: 0.9532\n",
            "Epoch 79/100\n",
            "13/13 [==============================] - 0s 5ms/step - loss: 0.1114 - accuracy: 0.9821 - val_loss: 0.1368 - val_accuracy: 0.9532\n",
            "Epoch 80/100\n",
            "13/13 [==============================] - 0s 5ms/step - loss: 0.1119 - accuracy: 0.9773 - val_loss: 0.1361 - val_accuracy: 0.9532\n",
            "Epoch 81/100\n",
            "13/13 [==============================] - 0s 6ms/step - loss: 0.1058 - accuracy: 0.9915 - val_loss: 0.1356 - val_accuracy: 0.9532\n",
            "Epoch 82/100\n",
            "13/13 [==============================] - 0s 6ms/step - loss: 0.1079 - accuracy: 0.9851 - val_loss: 0.1350 - val_accuracy: 0.9532\n",
            "Epoch 83/100\n",
            "13/13 [==============================] - 0s 6ms/step - loss: 0.0966 - accuracy: 0.9867 - val_loss: 0.1345 - val_accuracy: 0.9532\n",
            "Epoch 84/100\n",
            "13/13 [==============================] - 0s 6ms/step - loss: 0.1091 - accuracy: 0.9924 - val_loss: 0.1339 - val_accuracy: 0.9532\n",
            "Epoch 85/100\n",
            "13/13 [==============================] - 0s 6ms/step - loss: 0.0934 - accuracy: 0.9885 - val_loss: 0.1333 - val_accuracy: 0.9532\n",
            "Epoch 86/100\n",
            "13/13 [==============================] - 0s 6ms/step - loss: 0.0995 - accuracy: 0.9882 - val_loss: 0.1329 - val_accuracy: 0.9532\n",
            "Epoch 87/100\n",
            "13/13 [==============================] - 0s 6ms/step - loss: 0.1155 - accuracy: 0.9812 - val_loss: 0.1324 - val_accuracy: 0.9532\n",
            "Epoch 88/100\n",
            "13/13 [==============================] - 0s 5ms/step - loss: 0.1076 - accuracy: 0.9853 - val_loss: 0.1320 - val_accuracy: 0.9591\n",
            "Epoch 89/100\n",
            "13/13 [==============================] - 0s 6ms/step - loss: 0.0969 - accuracy: 0.9959 - val_loss: 0.1315 - val_accuracy: 0.9591\n",
            "Epoch 90/100\n",
            "13/13 [==============================] - 0s 5ms/step - loss: 0.1010 - accuracy: 0.9850 - val_loss: 0.1311 - val_accuracy: 0.9591\n",
            "Epoch 91/100\n",
            "13/13 [==============================] - 0s 6ms/step - loss: 0.1011 - accuracy: 0.9925 - val_loss: 0.1307 - val_accuracy: 0.9591\n",
            "Epoch 92/100\n",
            "13/13 [==============================] - 0s 5ms/step - loss: 0.0948 - accuracy: 0.9899 - val_loss: 0.1303 - val_accuracy: 0.9591\n",
            "Epoch 93/100\n",
            "13/13 [==============================] - 0s 5ms/step - loss: 0.1062 - accuracy: 0.9820 - val_loss: 0.1299 - val_accuracy: 0.9591\n",
            "Epoch 94/100\n",
            "13/13 [==============================] - 0s 5ms/step - loss: 0.1043 - accuracy: 0.9838 - val_loss: 0.1296 - val_accuracy: 0.9591\n",
            "Epoch 95/100\n",
            "13/13 [==============================] - 0s 6ms/step - loss: 0.0828 - accuracy: 0.9884 - val_loss: 0.1292 - val_accuracy: 0.9591\n",
            "Epoch 96/100\n",
            "13/13 [==============================] - 0s 6ms/step - loss: 0.0992 - accuracy: 0.9832 - val_loss: 0.1288 - val_accuracy: 0.9591\n",
            "Epoch 97/100\n",
            "13/13 [==============================] - 0s 6ms/step - loss: 0.0852 - accuracy: 0.9893 - val_loss: 0.1285 - val_accuracy: 0.9591\n",
            "Epoch 98/100\n",
            "13/13 [==============================] - 0s 5ms/step - loss: 0.0892 - accuracy: 0.9878 - val_loss: 0.1282 - val_accuracy: 0.9591\n",
            "Epoch 99/100\n",
            "13/13 [==============================] - 0s 5ms/step - loss: 0.0958 - accuracy: 0.9827 - val_loss: 0.1278 - val_accuracy: 0.9591\n",
            "Epoch 100/100\n",
            "13/13 [==============================] - 0s 5ms/step - loss: 0.0939 - accuracy: 0.9760 - val_loss: 0.1275 - val_accuracy: 0.9591\n"
          ],
          "name": "stdout"
        }
      ]
    },
    {
      "cell_type": "code",
      "metadata": {
        "colab": {
          "base_uri": "https://localhost:8080/"
        },
        "id": "RIQsetP4biOh",
        "outputId": "3285df1c-e34c-41a7-e6ab-ad767dcea5cc"
      },
      "source": [
        "print(\"Train score\",  model.evaluate(X_train , y_train))\n",
        "print(\"Test score\" , model.evaluate(X_test , y_test))"
      ],
      "execution_count": null,
      "outputs": [
        {
          "output_type": "stream",
          "text": [
            "13/13 [==============================] - 0s 1ms/step - loss: 0.0950 - accuracy: 0.9849\n",
            "Train score [0.09500366449356079, 0.9849246144294739]\n",
            "6/6 [==============================] - 0s 2ms/step - loss: 0.1275 - accuracy: 0.9591\n",
            "Test score [0.12752489745616913, 0.9590643048286438]\n"
          ],
          "name": "stdout"
        }
      ]
    },
    {
      "cell_type": "code",
      "metadata": {
        "colab": {
          "base_uri": "https://localhost:8080/"
        },
        "id": "MQtWK2xDblWT",
        "outputId": "028d6f65-57c7-4ed9-9709-5f5b7e684308"
      },
      "source": [
        "r.history.keys()\n"
      ],
      "execution_count": null,
      "outputs": [
        {
          "output_type": "execute_result",
          "data": {
            "text/plain": [
              "dict_keys(['loss', 'accuracy', 'val_loss', 'val_accuracy'])"
            ]
          },
          "metadata": {
            "tags": []
          },
          "execution_count": 71
        }
      ]
    },
    {
      "cell_type": "code",
      "metadata": {
        "colab": {
          "base_uri": "https://localhost:8080/",
          "height": 283
        },
        "id": "fa_nehbQbsO-",
        "outputId": "719cec1b-20f1-493e-eeb8-3ba79ecd9dcd"
      },
      "source": [
        "plt.plot(r.history['loss'], label='loss')\n",
        "plt.plot(r.history['val_loss'], label='val_loss')\n",
        "plt.legend()"
      ],
      "execution_count": null,
      "outputs": [
        {
          "output_type": "execute_result",
          "data": {
            "text/plain": [
              "<matplotlib.legend.Legend at 0x7f74f7fd46d0>"
            ]
          },
          "metadata": {
            "tags": []
          },
          "execution_count": 82
        },
        {
          "output_type": "display_data",
          "data": {
            "image/png": "[encoded data removed]",
            "text/plain": [
              "<Figure size 432x288 with 1 Axes>"
            ]
          },
          "metadata": {
            "tags": [],
            "needs_background": "light"
          }
        }
      ]
    },
    {
      "cell_type": "code",
      "metadata": {
        "colab": {
          "base_uri": "https://localhost:8080/",
          "height": 283
        },
        "id": "_7qc8QGVceE5",
        "outputId": "78dc39c8-762c-4463-ebef-6e749f3b8167"
      },
      "source": [
        "plt.plot(r.history[\"accuracy\"], label=\"accuracy\")\n",
        "plt.plot(r.history[\"val_accuracy\"], label=\"val_accuracy\")\n",
        "plt.legend()"
      ],
      "execution_count": null,
      "outputs": [
        {
          "output_type": "execute_result",
          "data": {
            "text/plain": [
              "<matplotlib.legend.Legend at 0x7f74f7e01f50>"
            ]
          },
          "metadata": {
            "tags": []
          },
          "execution_count": 84
        },
        {
          "output_type": "display_data",
          "data": {
            "image/png": "[encoded data removed]",
            "text/plain": [
              "<Figure size 432x288 with 1 Axes>"
            ]
          },
          "metadata": {
            "tags": [],
            "needs_background": "light"
          }
        }
      ]
    },
    {
      "cell_type": "code",
      "metadata": {
        "colab": {
          "base_uri": "https://localhost:8080/"
        },
        "id": "4cVQYXkyc1c8",
        "outputId": "a1287bdb-d70f-42e0-b0e6-2100f54407e5"
      },
      "source": [
        "prediction = model.predict(X_test)\n",
        "prediction"
      ],
      "execution_count": null,
      "outputs": [
        {
          "output_type": "execute_result",
          "data": {
            "text/plain": [
              "array([[3.27365228e-06],\n",
              "       [9.69875515e-01],\n",
              "       [9.97957706e-01],\n",
              "       [4.67330217e-04],\n",
              "       [1.81508839e-01],\n",
              "       [9.90614593e-01],\n",
              "       [9.63134050e-01],\n",
              "       [8.97805393e-01],\n",
              "       [6.78043485e-01],\n",
              "       [2.03141570e-03],\n",
              "       [9.86673415e-01],\n",
              "       [7.59008229e-01],\n",
              "       [5.47189415e-01],\n",
              "       [5.82840741e-02],\n",
              "       [2.63741732e-01],\n",
              "       [9.97972608e-01],\n",
              "       [9.88628983e-01],\n",
              "       [1.60555901e-05],\n",
              "       [9.98712301e-01],\n",
              "       [2.94181705e-03],\n",
              "       [9.60242152e-01],\n",
              "       [1.78223550e-02],\n",
              "       [9.99505758e-01],\n",
              "       [9.06534195e-01],\n",
              "       [9.98870254e-01],\n",
              "       [9.91454005e-01],\n",
              "       [9.91258740e-01],\n",
              "       [9.82385874e-01],\n",
              "       [9.93505001e-01],\n",
              "       [3.82476747e-02],\n",
              "       [9.97361004e-01],\n",
              "       [1.70466304e-03],\n",
              "       [9.46623206e-01],\n",
              "       [9.82258558e-01],\n",
              "       [7.34104216e-01],\n",
              "       [8.15955162e-01],\n",
              "       [8.79311562e-03],\n",
              "       [2.88356543e-02],\n",
              "       [9.97814894e-01],\n",
              "       [3.98568181e-06],\n",
              "       [9.98732626e-01],\n",
              "       [8.56569827e-01],\n",
              "       [8.82627785e-01],\n",
              "       [8.64019990e-03],\n",
              "       [1.27775967e-02],\n",
              "       [9.79909599e-01],\n",
              "       [9.83845413e-01],\n",
              "       [7.81685114e-04],\n",
              "       [9.98019338e-01],\n",
              "       [9.97290969e-01],\n",
              "       [6.16302550e-01],\n",
              "       [9.45802450e-01],\n",
              "       [8.25891972e-01],\n",
              "       [5.18912971e-02],\n",
              "       [9.92160201e-01],\n",
              "       [9.81892943e-01],\n",
              "       [8.93623054e-01],\n",
              "       [9.84632373e-01],\n",
              "       [9.89311397e-01],\n",
              "       [1.60716027e-01],\n",
              "       [9.51954842e-01],\n",
              "       [9.97510433e-01],\n",
              "       [5.57402968e-02],\n",
              "       [9.97998118e-01],\n",
              "       [1.11335516e-03],\n",
              "       [3.27491760e-03],\n",
              "       [9.82404113e-01],\n",
              "       [9.94100571e-01],\n",
              "       [1.21011019e-01],\n",
              "       [9.94157553e-01],\n",
              "       [9.77891564e-01],\n",
              "       [9.98545289e-01],\n",
              "       [7.81188011e-01],\n",
              "       [6.41679406e-01],\n",
              "       [9.56935525e-01],\n",
              "       [9.94238853e-01],\n",
              "       [7.12102354e-02],\n",
              "       [9.87463117e-01],\n",
              "       [1.28151123e-06],\n",
              "       [9.77497578e-01],\n",
              "       [9.10916746e-01],\n",
              "       [2.16243598e-06],\n",
              "       [9.39601064e-01],\n",
              "       [9.60026264e-01],\n",
              "       [1.61599606e-01],\n",
              "       [9.99809623e-01],\n",
              "       [9.84819651e-01],\n",
              "       [9.28249419e-01],\n",
              "       [9.83246207e-01],\n",
              "       [8.35169435e-01],\n",
              "       [3.77297401e-04],\n",
              "       [4.57754433e-02],\n",
              "       [1.29675865e-02],\n",
              "       [5.79503179e-03],\n",
              "       [5.61475463e-06],\n",
              "       [2.42884010e-01],\n",
              "       [9.01409090e-01],\n",
              "       [2.42210150e-01],\n",
              "       [9.99249339e-01],\n",
              "       [5.84815323e-01],\n",
              "       [1.05050206e-03],\n",
              "       [1.18303299e-03],\n",
              "       [5.09035587e-03],\n",
              "       [8.48159432e-01],\n",
              "       [9.98404741e-01],\n",
              "       [9.25625682e-01],\n",
              "       [9.83714283e-01],\n",
              "       [6.33517206e-02],\n",
              "       [9.98503625e-01],\n",
              "       [6.93542659e-02],\n",
              "       [9.92097199e-01],\n",
              "       [3.05154099e-05],\n",
              "       [6.51896000e-04],\n",
              "       [1.53422356e-04],\n",
              "       [8.79956484e-02],\n",
              "       [6.33537093e-06],\n",
              "       [9.61742401e-01],\n",
              "       [9.99778509e-01],\n",
              "       [9.99835968e-01],\n",
              "       [8.58004689e-02],\n",
              "       [9.85275388e-01],\n",
              "       [5.12768745e-01],\n",
              "       [7.76901960e-01],\n",
              "       [6.72057807e-01],\n",
              "       [9.95131016e-01],\n",
              "       [9.47957039e-02],\n",
              "       [1.46418810e-04],\n",
              "       [9.34445500e-01],\n",
              "       [1.49220228e-04],\n",
              "       [5.73831499e-02],\n",
              "       [9.78572488e-01],\n",
              "       [9.08969760e-01],\n",
              "       [9.92159545e-01],\n",
              "       [9.80716825e-01],\n",
              "       [9.48869467e-01],\n",
              "       [1.94344223e-02],\n",
              "       [6.15506172e-01],\n",
              "       [9.98805881e-01],\n",
              "       [4.53448296e-03],\n",
              "       [9.75785851e-01],\n",
              "       [5.81637561e-01],\n",
              "       [2.44058967e-02],\n",
              "       [9.91813898e-01],\n",
              "       [9.88002896e-01],\n",
              "       [9.74121809e-01],\n",
              "       [9.90319610e-01],\n",
              "       [7.43815303e-03],\n",
              "       [1.35403872e-03],\n",
              "       [9.81476486e-01],\n",
              "       [1.83335811e-01],\n",
              "       [9.71375942e-01],\n",
              "       [8.64380598e-03],\n",
              "       [4.75381345e-01],\n",
              "       [9.89712059e-01],\n",
              "       [1.54570967e-01],\n",
              "       [3.70466709e-03],\n",
              "       [9.70968723e-01],\n",
              "       [4.43667173e-04],\n",
              "       [6.31057024e-02],\n",
              "       [8.80591989e-01],\n",
              "       [5.62091589e-01],\n",
              "       [4.32789326e-04],\n",
              "       [9.81639862e-01],\n",
              "       [9.85722005e-01],\n",
              "       [9.16664898e-01],\n",
              "       [5.50053239e-01],\n",
              "       [9.61751580e-01],\n",
              "       [8.06432724e-01],\n",
              "       [9.45605636e-01],\n",
              "       [3.24994326e-04],\n",
              "       [9.87446308e-01]], dtype=float32)"
            ]
          },
          "metadata": {
            "tags": []
          },
          "execution_count": 88
        }
      ]
    },
    {
      "cell_type": "code",
      "metadata": {
        "colab": {
          "base_uri": "https://localhost:8080/"
        },
        "id": "y0vHyRlAc9--",
        "outputId": "10e3b9b4-6a9f-4261-e489-0e670384c44e"
      },
      "source": [
        "pred = prediction.flatten().round()\n",
        "pred"
      ],
      "execution_count": null,
      "outputs": [
        {
          "output_type": "execute_result",
          "data": {
            "text/plain": [
              "array([0., 1., 1., 0., 0., 1., 1., 1., 1., 0., 1., 1., 1., 0., 0., 1., 1.,\n",
              "       0., 1., 0., 1., 0., 1., 1., 1., 1., 1., 1., 1., 0., 1., 0., 1., 1.,\n",
              "       1., 1., 0., 0., 1., 0., 1., 1., 1., 0., 0., 1., 1., 0., 1., 1., 1.,\n",
              "       1., 1., 0., 1., 1., 1., 1., 1., 0., 1., 1., 0., 1., 0., 0., 1., 1.,\n",
              "       0., 1., 1., 1., 1., 1., 1., 1., 0., 1., 0., 1., 1., 0., 1., 1., 0.,\n",
              "       1., 1., 1., 1., 1., 0., 0., 0., 0., 0., 0., 1., 0., 1., 1., 0., 0.,\n",
              "       0., 1., 1., 1., 1., 0., 1., 0., 1., 0., 0., 0., 0., 0., 1., 1., 1.,\n",
              "       0., 1., 1., 1., 1., 1., 0., 0., 1., 0., 0., 1., 1., 1., 1., 1., 0.,\n",
              "       1., 1., 0., 1., 1., 0., 1., 1., 1., 1., 0., 0., 1., 0., 1., 0., 0.,\n",
              "       1., 0., 0., 1., 0., 0., 1., 1., 0., 1., 1., 1., 1., 1., 1., 1., 0.,\n",
              "       1.], dtype=float32)"
            ]
          },
          "metadata": {
            "tags": []
          },
          "execution_count": 98
        }
      ]
    },
    {
      "cell_type": "code",
      "metadata": {
        "colab": {
          "base_uri": "https://localhost:8080/"
        },
        "id": "6b2r0Of_dyWW",
        "outputId": "ff329862-d7ce-4264-e4de-4da49e0a0c41"
      },
      "source": [
        "print(np.mean(y_test == pred))\n",
        "print(model.evaluate(X_test, y_test))"
      ],
      "execution_count": null,
      "outputs": [
        {
          "output_type": "stream",
          "text": [
            "0.9590643274853801\n",
            "6/6 [==============================] - 0s 2ms/step - loss: 0.1275 - accuracy: 0.9591\n",
            "[0.12752489745616913, 0.9590643048286438]\n"
          ],
          "name": "stdout"
        }
      ]
    },
    {
      "cell_type": "code",
      "metadata": {
        "colab": {
          "base_uri": "https://localhost:8080/",
          "height": 462
        },
        "id": "vMiRf8Xye0Xr",
        "outputId": "8de3b30d-1bfd-4702-8fe4-3c4016354644"
      },
      "source": [
        "data.target_names[0]\n",
        "df = pd.DataFrame(X_test)\n",
        "df.columns = data.feature_names\n",
        "df[\"cancer_type\"] = pred.astype(int)\n",
        "df[\"caner_name\"] = [data.target_names[i] for i in df.cancer_type ]\n",
        "df"
      ],
      "execution_count": null,
      "outputs": [
        {
          "output_type": "execute_result",
          "data": {
            "text/html": [
              "<div>\n",
              "<style scoped>\n",
              "    .dataframe tbody tr th:only-of-type {\n",
              "        vertical-align: middle;\n",
              "    }\n",
              "\n",
              "    .dataframe tbody tr th {\n",
              "        vertical-align: top;\n",
              "    }\n",
              "\n",
              "    .dataframe thead th {\n",
              "        text-align: right;\n",
              "    }\n",
              "</style>\n",
              "<table border=\"1\" class=\"dataframe\">\n",
              "  <thead>\n",
              "    <tr style=\"text-align: right;\">\n",
              "      <th></th>\n",
              "      <th>mean radius</th>\n",
              "      <th>mean texture</th>\n",
              "      <th>mean perimeter</th>\n",
              "      <th>mean area</th>\n",
              "      <th>mean smoothness</th>\n",
              "      <th>mean compactness</th>\n",
              "      <th>mean concavity</th>\n",
              "      <th>mean concave points</th>\n",
              "      <th>mean symmetry</th>\n",
              "      <th>mean fractal dimension</th>\n",
              "      <th>radius error</th>\n",
              "      <th>texture error</th>\n",
              "      <th>perimeter error</th>\n",
              "      <th>area error</th>\n",
              "      <th>smoothness error</th>\n",
              "      <th>compactness error</th>\n",
              "      <th>concavity error</th>\n",
              "      <th>concave points error</th>\n",
              "      <th>symmetry error</th>\n",
              "      <th>fractal dimension error</th>\n",
              "      <th>worst radius</th>\n",
              "      <th>worst texture</th>\n",
              "      <th>worst perimeter</th>\n",
              "      <th>worst area</th>\n",
              "      <th>worst smoothness</th>\n",
              "      <th>worst compactness</th>\n",
              "      <th>worst concavity</th>\n",
              "      <th>worst concave points</th>\n",
              "      <th>worst symmetry</th>\n",
              "      <th>worst fractal dimension</th>\n",
              "      <th>cancer_type</th>\n",
              "      <th>caner_name</th>\n",
              "    </tr>\n",
              "  </thead>\n",
              "  <tbody>\n",
              "    <tr>\n",
              "      <th>0</th>\n",
              "      <td>1.842786</td>\n",
              "      <td>2.783836</td>\n",
              "      <td>1.772547</td>\n",
              "      <td>2.108123</td>\n",
              "      <td>-0.127398</td>\n",
              "      <td>0.196365</td>\n",
              "      <td>0.596365</td>\n",
              "      <td>0.980776</td>\n",
              "      <td>-0.144278</td>\n",
              "      <td>-0.827144</td>\n",
              "      <td>2.578721</td>\n",
              "      <td>0.698605</td>\n",
              "      <td>2.271392</td>\n",
              "      <td>3.188968</td>\n",
              "      <td>-0.864523</td>\n",
              "      <td>-0.612201</td>\n",
              "      <td>-0.343773</td>\n",
              "      <td>-0.414013</td>\n",
              "      <td>-0.800694</td>\n",
              "      <td>-0.550545</td>\n",
              "      <td>3.345669</td>\n",
              "      <td>3.533718</td>\n",
              "      <td>3.169927</td>\n",
              "      <td>4.462319</td>\n",
              "      <td>0.324738</td>\n",
              "      <td>0.072061</td>\n",
              "      <td>0.349417</td>\n",
              "      <td>0.814650</td>\n",
              "      <td>-0.033324</td>\n",
              "      <td>-0.100357</td>\n",
              "      <td>0</td>\n",
              "      <td>malignant</td>\n",
              "    </tr>\n",
              "    <tr>\n",
              "      <th>1</th>\n",
              "      <td>-0.915948</td>\n",
              "      <td>1.178791</td>\n",
              "      <td>-0.928117</td>\n",
              "      <td>-0.810337</td>\n",
              "      <td>-1.007504</td>\n",
              "      <td>-0.726538</td>\n",
              "      <td>-0.913060</td>\n",
              "      <td>-1.037273</td>\n",
              "      <td>0.642803</td>\n",
              "      <td>0.048215</td>\n",
              "      <td>0.378208</td>\n",
              "      <td>1.241877</td>\n",
              "      <td>0.321179</td>\n",
              "      <td>-0.160206</td>\n",
              "      <td>0.436360</td>\n",
              "      <td>-0.394956</td>\n",
              "      <td>-0.607419</td>\n",
              "      <td>-0.970110</td>\n",
              "      <td>0.453582</td>\n",
              "      <td>-0.316843</td>\n",
              "      <td>-0.654229</td>\n",
              "      <td>0.967527</td>\n",
              "      <td>-0.676788</td>\n",
              "      <td>-0.646668</td>\n",
              "      <td>-0.509402</td>\n",
              "      <td>-0.580181</td>\n",
              "      <td>-1.012966</td>\n",
              "      <td>-1.249855</td>\n",
              "      <td>0.279384</td>\n",
              "      <td>-0.420609</td>\n",
              "      <td>1</td>\n",
              "      <td>benign</td>\n",
              "    </tr>\n",
              "    <tr>\n",
              "      <th>2</th>\n",
              "      <td>-1.099678</td>\n",
              "      <td>0.105663</td>\n",
              "      <td>-1.096277</td>\n",
              "      <td>-0.948063</td>\n",
              "      <td>0.259242</td>\n",
              "      <td>-0.554115</td>\n",
              "      <td>-1.043245</td>\n",
              "      <td>-0.959953</td>\n",
              "      <td>-0.060627</td>\n",
              "      <td>0.052231</td>\n",
              "      <td>-0.551039</td>\n",
              "      <td>1.552319</td>\n",
              "      <td>-0.571679</td>\n",
              "      <td>-0.485681</td>\n",
              "      <td>2.064918</td>\n",
              "      <td>-0.199879</td>\n",
              "      <td>-0.869116</td>\n",
              "      <td>-0.777469</td>\n",
              "      <td>0.574559</td>\n",
              "      <td>-0.557783</td>\n",
              "      <td>-1.143426</td>\n",
              "      <td>-0.432362</td>\n",
              "      <td>-1.150458</td>\n",
              "      <td>-0.923033</td>\n",
              "      <td>-0.251115</td>\n",
              "      <td>-0.859528</td>\n",
              "      <td>-1.263423</td>\n",
              "      <td>-1.409735</td>\n",
              "      <td>-1.025476</td>\n",
              "      <td>-0.898824</td>\n",
              "      <td>1</td>\n",
              "      <td>benign</td>\n",
              "    </tr>\n",
              "    <tr>\n",
              "      <th>3</th>\n",
              "      <td>1.581110</td>\n",
              "      <td>1.390164</td>\n",
              "      <td>1.558304</td>\n",
              "      <td>1.481595</td>\n",
              "      <td>0.341946</td>\n",
              "      <td>1.048923</td>\n",
              "      <td>2.063204</td>\n",
              "      <td>1.713769</td>\n",
              "      <td>1.502128</td>\n",
              "      <td>-0.239556</td>\n",
              "      <td>0.296246</td>\n",
              "      <td>-0.055841</td>\n",
              "      <td>-0.051156</td>\n",
              "      <td>0.449154</td>\n",
              "      <td>-0.695604</td>\n",
              "      <td>0.330488</td>\n",
              "      <td>0.451428</td>\n",
              "      <td>-0.223852</td>\n",
              "      <td>-0.559882</td>\n",
              "      <td>-0.231704</td>\n",
              "      <td>1.318999</td>\n",
              "      <td>1.315457</td>\n",
              "      <td>1.239177</td>\n",
              "      <td>1.244760</td>\n",
              "      <td>-0.208773</td>\n",
              "      <td>0.857202</td>\n",
              "      <td>1.426253</td>\n",
              "      <td>0.927743</td>\n",
              "      <td>0.682138</td>\n",
              "      <td>0.033261</td>\n",
              "      <td>0</td>\n",
              "      <td>malignant</td>\n",
              "    </tr>\n",
              "    <tr>\n",
              "      <th>4</th>\n",
              "      <td>0.743190</td>\n",
              "      <td>-0.077837</td>\n",
              "      <td>0.705378</td>\n",
              "      <td>0.637853</td>\n",
              "      <td>-0.543674</td>\n",
              "      <td>-0.233355</td>\n",
              "      <td>-0.057113</td>\n",
              "      <td>0.447269</td>\n",
              "      <td>0.327210</td>\n",
              "      <td>-1.014530</td>\n",
              "      <td>0.646021</td>\n",
              "      <td>0.290699</td>\n",
              "      <td>0.584469</td>\n",
              "      <td>0.529719</td>\n",
              "      <td>-0.313610</td>\n",
              "      <td>-0.062438</td>\n",
              "      <td>-0.196728</td>\n",
              "      <td>0.703803</td>\n",
              "      <td>0.025599</td>\n",
              "      <td>-0.138982</td>\n",
              "      <td>0.788694</td>\n",
              "      <td>0.126287</td>\n",
              "      <td>0.706965</td>\n",
              "      <td>0.670383</td>\n",
              "      <td>-0.661834</td>\n",
              "      <td>-0.266640</td>\n",
              "      <td>-0.193103</td>\n",
              "      <td>0.528042</td>\n",
              "      <td>-0.128283</td>\n",
              "      <td>-0.635914</td>\n",
              "      <td>0</td>\n",
              "      <td>malignant</td>\n",
              "    </tr>\n",
              "    <tr>\n",
              "      <th>...</th>\n",
              "      <td>...</td>\n",
              "      <td>...</td>\n",
              "      <td>...</td>\n",
              "      <td>...</td>\n",
              "      <td>...</td>\n",
              "      <td>...</td>\n",
              "      <td>...</td>\n",
              "      <td>...</td>\n",
              "      <td>...</td>\n",
              "      <td>...</td>\n",
              "      <td>...</td>\n",
              "      <td>...</td>\n",
              "      <td>...</td>\n",
              "      <td>...</td>\n",
              "      <td>...</td>\n",
              "      <td>...</td>\n",
              "      <td>...</td>\n",
              "      <td>...</td>\n",
              "      <td>...</td>\n",
              "      <td>...</td>\n",
              "      <td>...</td>\n",
              "      <td>...</td>\n",
              "      <td>...</td>\n",
              "      <td>...</td>\n",
              "      <td>...</td>\n",
              "      <td>...</td>\n",
              "      <td>...</td>\n",
              "      <td>...</td>\n",
              "      <td>...</td>\n",
              "      <td>...</td>\n",
              "      <td>...</td>\n",
              "      <td>...</td>\n",
              "    </tr>\n",
              "    <tr>\n",
              "      <th>166</th>\n",
              "      <td>-0.874191</td>\n",
              "      <td>-0.449482</td>\n",
              "      <td>-0.813316</td>\n",
              "      <td>-0.783013</td>\n",
              "      <td>-0.509214</td>\n",
              "      <td>0.139018</td>\n",
              "      <td>0.071764</td>\n",
              "      <td>-0.316394</td>\n",
              "      <td>-1.208929</td>\n",
              "      <td>0.465818</td>\n",
              "      <td>-0.506179</td>\n",
              "      <td>0.263625</td>\n",
              "      <td>-0.032050</td>\n",
              "      <td>-0.458558</td>\n",
              "      <td>0.542197</td>\n",
              "      <td>1.139061</td>\n",
              "      <td>0.961367</td>\n",
              "      <td>0.974989</td>\n",
              "      <td>-0.630642</td>\n",
              "      <td>0.372198</td>\n",
              "      <td>-0.791944</td>\n",
              "      <td>0.219395</td>\n",
              "      <td>-0.492288</td>\n",
              "      <td>-0.697646</td>\n",
              "      <td>0.282395</td>\n",
              "      <td>0.999779</td>\n",
              "      <td>0.994746</td>\n",
              "      <td>0.653530</td>\n",
              "      <td>-0.570330</td>\n",
              "      <td>0.610472</td>\n",
              "      <td>1</td>\n",
              "      <td>benign</td>\n",
              "    </tr>\n",
              "    <tr>\n",
              "      <th>167</th>\n",
              "      <td>-0.295163</td>\n",
              "      <td>-0.126615</td>\n",
              "      <td>-0.273264</td>\n",
              "      <td>-0.395228</td>\n",
              "      <td>0.803709</td>\n",
              "      <td>0.504127</td>\n",
              "      <td>0.089944</td>\n",
              "      <td>0.196495</td>\n",
              "      <td>0.867140</td>\n",
              "      <td>0.279770</td>\n",
              "      <td>-0.326738</td>\n",
              "      <td>0.505481</td>\n",
              "      <td>-0.132706</td>\n",
              "      <td>-0.389847</td>\n",
              "      <td>0.276554</td>\n",
              "      <td>0.747798</td>\n",
              "      <td>0.560113</td>\n",
              "      <td>1.153575</td>\n",
              "      <td>0.903250</td>\n",
              "      <td>0.626926</td>\n",
              "      <td>-0.415798</td>\n",
              "      <td>-0.110567</td>\n",
              "      <td>-0.371653</td>\n",
              "      <td>-0.497225</td>\n",
              "      <td>0.079153</td>\n",
              "      <td>0.081093</td>\n",
              "      <td>-0.070023</td>\n",
              "      <td>0.193408</td>\n",
              "      <td>0.367793</td>\n",
              "      <td>-0.046802</td>\n",
              "      <td>1</td>\n",
              "      <td>benign</td>\n",
              "    </tr>\n",
              "    <tr>\n",
              "      <th>168</th>\n",
              "      <td>-0.144839</td>\n",
              "      <td>0.628290</td>\n",
              "      <td>-0.189588</td>\n",
              "      <td>-0.259986</td>\n",
              "      <td>-1.170155</td>\n",
              "      <td>-0.409792</td>\n",
              "      <td>-0.598773</td>\n",
              "      <td>-0.695519</td>\n",
              "      <td>-0.653790</td>\n",
              "      <td>-0.579527</td>\n",
              "      <td>-0.234319</td>\n",
              "      <td>1.238268</td>\n",
              "      <td>-0.132240</td>\n",
              "      <td>-0.285574</td>\n",
              "      <td>-0.554372</td>\n",
              "      <td>-0.097906</td>\n",
              "      <td>-0.052727</td>\n",
              "      <td>-0.308350</td>\n",
              "      <td>-0.044020</td>\n",
              "      <td>-0.305813</td>\n",
              "      <td>-0.290415</td>\n",
              "      <td>0.737207</td>\n",
              "      <td>-0.269941</td>\n",
              "      <td>-0.374494</td>\n",
              "      <td>-1.352011</td>\n",
              "      <td>-0.517602</td>\n",
              "      <td>-0.610613</td>\n",
              "      <td>-0.796705</td>\n",
              "      <td>-0.724229</td>\n",
              "      <td>-0.746271</td>\n",
              "      <td>1</td>\n",
              "      <td>benign</td>\n",
              "    </tr>\n",
              "    <tr>\n",
              "      <th>169</th>\n",
              "      <td>0.707000</td>\n",
              "      <td>0.521442</td>\n",
              "      <td>0.733674</td>\n",
              "      <td>0.688362</td>\n",
              "      <td>1.072497</td>\n",
              "      <td>0.796597</td>\n",
              "      <td>0.793106</td>\n",
              "      <td>1.115828</td>\n",
              "      <td>0.715047</td>\n",
              "      <td>0.050892</td>\n",
              "      <td>1.346920</td>\n",
              "      <td>-0.592435</td>\n",
              "      <td>1.202386</td>\n",
              "      <td>1.238129</td>\n",
              "      <td>-0.339894</td>\n",
              "      <td>-0.388306</td>\n",
              "      <td>-0.161717</td>\n",
              "      <td>-0.079991</td>\n",
              "      <td>-0.685424</td>\n",
              "      <td>-0.377509</td>\n",
              "      <td>2.106235</td>\n",
              "      <td>0.985495</td>\n",
              "      <td>2.075934</td>\n",
              "      <td>2.337648</td>\n",
              "      <td>2.035360</td>\n",
              "      <td>0.674626</td>\n",
              "      <td>0.954202</td>\n",
              "      <td>1.490114</td>\n",
              "      <td>1.186400</td>\n",
              "      <td>0.627783</td>\n",
              "      <td>0</td>\n",
              "      <td>malignant</td>\n",
              "    </tr>\n",
              "    <tr>\n",
              "      <th>170</th>\n",
              "      <td>-1.010597</td>\n",
              "      <td>-0.965141</td>\n",
              "      <td>-0.984710</td>\n",
              "      <td>-0.887618</td>\n",
              "      <td>0.111754</td>\n",
              "      <td>-0.052138</td>\n",
              "      <td>-0.316985</td>\n",
              "      <td>-0.675931</td>\n",
              "      <td>0.448884</td>\n",
              "      <td>0.833897</td>\n",
              "      <td>-0.269398</td>\n",
              "      <td>-0.185793</td>\n",
              "      <td>-0.144822</td>\n",
              "      <td>-0.405920</td>\n",
              "      <td>0.121303</td>\n",
              "      <td>0.711775</td>\n",
              "      <td>0.606084</td>\n",
              "      <td>0.141588</td>\n",
              "      <td>0.105489</td>\n",
              "      <td>0.321873</td>\n",
              "      <td>-0.839220</td>\n",
              "      <td>-0.646348</td>\n",
              "      <td>-0.750411</td>\n",
              "      <td>-0.760496</td>\n",
              "      <td>0.011406</td>\n",
              "      <td>0.299152</td>\n",
              "      <td>0.106634</td>\n",
              "      <td>-0.313190</td>\n",
              "      <td>0.215532</td>\n",
              "      <td>0.672142</td>\n",
              "      <td>1</td>\n",
              "      <td>benign</td>\n",
              "    </tr>\n",
              "  </tbody>\n",
              "</table>\n",
              "<p>171 rows × 32 columns</p>\n",
              "</div>"
            ],
            "text/plain": [
              "     mean radius  mean texture  ...  cancer_type  caner_name\n",
              "0       1.842786      2.783836  ...            0   malignant\n",
              "1      -0.915948      1.178791  ...            1      benign\n",
              "2      -1.099678      0.105663  ...            1      benign\n",
              "3       1.581110      1.390164  ...            0   malignant\n",
              "4       0.743190     -0.077837  ...            0   malignant\n",
              "..           ...           ...  ...          ...         ...\n",
              "166    -0.874191     -0.449482  ...            1      benign\n",
              "167    -0.295163     -0.126615  ...            1      benign\n",
              "168    -0.144839      0.628290  ...            1      benign\n",
              "169     0.707000      0.521442  ...            0   malignant\n",
              "170    -1.010597     -0.965141  ...            1      benign\n",
              "\n",
              "[171 rows x 32 columns]"
            ]
          },
          "metadata": {
            "tags": []
          },
          "execution_count": 121
        }
      ]
    },
    {
      "cell_type": "code",
      "metadata": {
        "id": "N9fxmlLieREU"
      },
      "source": [
        "model.save(\"breast_cancer.h5\")"
      ],
      "execution_count": null,
      "outputs": []
    },
    {
      "cell_type": "code",
      "metadata": {
        "colab": {
          "base_uri": "https://localhost:8080/"
        },
        "id": "4kguqiJfedIh",
        "outputId": "5992d4a1-fa49-43eb-9795-de1e229441d1"
      },
      "source": [
        "!ls "
      ],
      "execution_count": null,
      "outputs": [
        {
          "output_type": "stream",
          "text": [
            "breast_cancer.h5  sample_data\n"
          ],
          "name": "stdout"
        }
      ]
    },
    {
      "cell_type": "code",
      "metadata": {
        "colab": {
          "base_uri": "https://localhost:8080/"
        },
        "id": "B94OV83heijr",
        "outputId": "391236eb-9fbe-4beb-954f-a1696437dc12"
      },
      "source": [
        "model = tf.keras.models.load_model(\"breast_cancer.h5\")\n",
        "model.layers"
      ],
      "execution_count": null,
      "outputs": [
        {
          "output_type": "execute_result",
          "data": {
            "text/plain": [
              "[<tensorflow.python.keras.layers.core.Dense at 0x7f74f7362d50>]"
            ]
          },
          "metadata": {
            "tags": []
          },
          "execution_count": 123
        }
      ]
    }
  ]
}